{
 "cells": [
  {
   "cell_type": "code",
   "execution_count": 1,
   "metadata": {},
   "outputs": [
    {
     "data": {
      "text/plain": [
       "'d:\\\\TP_PROGS\\\\Learning\\\\UCSD\\\\Spring 2023\\\\CSE 285\\\\Project\\\\Code\\\\Iteration2\\\\DataNew\\\\pianoOnly'"
      ]
     },
     "execution_count": 1,
     "metadata": {},
     "output_type": "execute_result"
    }
   ],
   "source": [
    "import os\n",
    "os.getcwd()"
   ]
  },
  {
   "cell_type": "code",
   "execution_count": 5,
   "metadata": {},
   "outputs": [
    {
     "ename": "Error",
     "evalue": "Destination path 'piano_flatten\\White Christmas.mid' already exists",
     "output_type": "error",
     "traceback": [
      "\u001b[1;31m---------------------------------------------------------------------------\u001b[0m",
      "\u001b[1;31mError\u001b[0m                                     Traceback (most recent call last)",
      "\u001b[1;32md:\\TP_PROGS\\Learning\\UCSD\\Spring 2023\\CSE 285\\Project\\Code\\Iteration2\\DataNew\\pianoOnly\\flattener.ipynb Cell 2\u001b[0m in \u001b[0;36m<cell line: 13>\u001b[1;34m()\u001b[0m\n\u001b[0;32m     <a href='vscode-notebook-cell:/d%3A/TP_PROGS/Learning/UCSD/Spring%202023/CSE%20285/Project/Code/Iteration2/DataNew/pianoOnly/flattener.ipynb#W0sZmlsZQ%3D%3D?line=28'>29</a>\u001b[0m                         \u001b[39m# Check if the item is a file and move it to the train_flatten folder\u001b[39;00m\n\u001b[0;32m     <a href='vscode-notebook-cell:/d%3A/TP_PROGS/Learning/UCSD/Spring%202023/CSE%20285/Project/Code/Iteration2/DataNew/pianoOnly/flattener.ipynb#W0sZmlsZQ%3D%3D?line=29'>30</a>\u001b[0m                         \u001b[39mif\u001b[39;00m os\u001b[39m.\u001b[39mpath\u001b[39m.\u001b[39misfile(file_path):\n\u001b[1;32m---> <a href='vscode-notebook-cell:/d%3A/TP_PROGS/Learning/UCSD/Spring%202023/CSE%20285/Project/Code/Iteration2/DataNew/pianoOnly/flattener.ipynb#W0sZmlsZQ%3D%3D?line=30'>31</a>\u001b[0m                             shutil\u001b[39m.\u001b[39;49mmove(file_path, train_flatten_folder)\n\u001b[0;32m     <a href='vscode-notebook-cell:/d%3A/TP_PROGS/Learning/UCSD/Spring%202023/CSE%20285/Project/Code/Iteration2/DataNew/pianoOnly/flattener.ipynb#W0sZmlsZQ%3D%3D?line=32'>33</a>\u001b[0m \u001b[39mprint\u001b[39m(\u001b[39m'\u001b[39m\u001b[39mFlattening complete.\u001b[39m\u001b[39m'\u001b[39m)\n",
      "File \u001b[1;32md:\\softwares\\AnacondaMini\\lib\\shutil.py:821\u001b[0m, in \u001b[0;36mmove\u001b[1;34m(src, dst, copy_function)\u001b[0m\n\u001b[0;32m    818\u001b[0m     real_dst \u001b[39m=\u001b[39m os\u001b[39m.\u001b[39mpath\u001b[39m.\u001b[39mjoin(dst, _basename(src))\n\u001b[0;32m    820\u001b[0m     \u001b[39mif\u001b[39;00m os\u001b[39m.\u001b[39mpath\u001b[39m.\u001b[39mexists(real_dst):\n\u001b[1;32m--> 821\u001b[0m         \u001b[39mraise\u001b[39;00m Error(\u001b[39m\"\u001b[39m\u001b[39mDestination path \u001b[39m\u001b[39m'\u001b[39m\u001b[39m%s\u001b[39;00m\u001b[39m'\u001b[39m\u001b[39m already exists\u001b[39m\u001b[39m\"\u001b[39m \u001b[39m%\u001b[39m real_dst)\n\u001b[0;32m    822\u001b[0m \u001b[39mtry\u001b[39;00m:\n\u001b[0;32m    823\u001b[0m     os\u001b[39m.\u001b[39mrename(src, real_dst)\n",
      "\u001b[1;31mError\u001b[0m: Destination path 'piano_flatten\\White Christmas.mid' already exists"
     ]
    }
   ],
   "source": [
    "import os\n",
    "import shutil\n",
    "\n",
    "# Set the paths for the train folder and the train_flatten folder\n",
    "train_folder = 'adl-piano-midi'\n",
    "train_flatten_folder = 'piano_flatten'\n",
    "\n",
    "# Create the train_flatten folder if it doesn't exist\n",
    "if not os.path.exists(train_flatten_folder):\n",
    "    os.makedirs(train_flatten_folder)\n",
    "\n",
    "# Iterate through each folder inside the train folder\n",
    "for folder_name in os.listdir(train_folder):\n",
    "    folder_path = os.path.join(train_folder, folder_name)\n",
    "    \n",
    "    # Check if the item in the train folder is a directory\n",
    "    if os.path.isdir(folder_path):\n",
    "        for sub_folder_name in os.listdir(folder_path):\n",
    "            sub_folder_path = os.path.join(folder_path, sub_folder_name)\n",
    "\n",
    "            if os.path.isdir(sub_folder_path):\n",
    "                for sub_sub_folder_name in os.listdir(sub_folder_path):\n",
    "                    sub_sub_folder_path = os.path.join(sub_folder_path, sub_sub_folder_name)\n",
    "\n",
    "            # Iterate through each image file in the current folder\n",
    "                    for file_name in os.listdir(sub_sub_folder_path):\n",
    "                        file_path = os.path.join(sub_sub_folder_path, file_name)\n",
    "                        \n",
    "                        # Check if the item is a file and move it to the train_flatten folder\n",
    "                        if os.path.isfile(file_path):\n",
    "                            shutil.move(file_path, train_flatten_folder)\n",
    "\n",
    "print('Flattening complete.')\n"
   ]
  },
  {
   "cell_type": "code",
   "execution_count": 7,
   "metadata": {},
   "outputs": [
    {
     "name": "stdout",
     "output_type": "stream",
     "text": [
      "Flattening complete.\n"
     ]
    }
   ],
   "source": [
    "import os\n",
    "import shutil\n",
    "import uuid\n",
    "\n",
    "# Set the paths for the train folder and the train_flatten folder\n",
    "train_folder = 'adl-piano-midi'\n",
    "train_flatten_folder = 'piano_flatten'\n",
    "\n",
    "# Create the train_flatten folder if it doesn't exist\n",
    "if not os.path.exists(train_flatten_folder):\n",
    "    os.makedirs(train_flatten_folder)\n",
    "\n",
    "# Iterate through each folder inside the train folder\n",
    "for folder_name in os.listdir(train_folder):\n",
    "    folder_path = os.path.join(train_folder, folder_name)\n",
    "    \n",
    "    # Check if the item in the train folder is a directory\n",
    "    if os.path.isdir(folder_path):\n",
    "        for sub_folder_name in os.listdir(folder_path):\n",
    "            sub_folder_path = os.path.join(folder_path, sub_folder_name)\n",
    "\n",
    "            if os.path.isdir(sub_folder_path):\n",
    "                for sub_sub_folder_name in os.listdir(sub_folder_path):\n",
    "                    sub_sub_folder_path = os.path.join(sub_folder_path, sub_sub_folder_name)\n",
    "\n",
    "                    # Iterate through each image file in the current folder\n",
    "                    for file_name in os.listdir(sub_sub_folder_path):\n",
    "                        file_path = os.path.join(sub_sub_folder_path, file_name)\n",
    "                        \n",
    "                        # Check if the item is a file\n",
    "                        if os.path.isfile(file_path):\n",
    "                            # Generate a unique identifier\n",
    "                            unique_identifier = str(uuid.uuid4())[:8]\n",
    "                            \n",
    "                            # Get the file extension\n",
    "                            file_extension = os.path.splitext(file_name)[1]\n",
    "                            \n",
    "                            # Create a new filename with the unique identifier\n",
    "                            new_file_name = f\"{file_name}_{unique_identifier}{file_extension}\"\n",
    "                            \n",
    "                            # Construct the new file path in the train_flatten folder\n",
    "                            new_file_path = os.path.join(train_flatten_folder, new_file_name)\n",
    "                            \n",
    "                            # Move the file to the train_flatten folder\n",
    "                            shutil.move(file_path, new_file_path)\n",
    "\n",
    "print('Flattening complete.')\n"
   ]
  },
  {
   "cell_type": "code",
   "execution_count": 9,
   "metadata": {},
   "outputs": [
    {
     "name": "stdout",
     "output_type": "stream",
     "text": [
      "MIDI files distributed into folders successfully.\n"
     ]
    }
   ],
   "source": [
    "import os\n",
    "import shutil\n",
    "\n",
    "# Set the source folder where your MIDI files are located\n",
    "source_folder = \"piano_flatten\"\n",
    "\n",
    "# Set the destination folder where you want to distribute the MIDI files\n",
    "destination_folder = \"piano_flatten_dist\"\n",
    "\n",
    "# Set the pattern for the number of songs in each folder\n",
    "song_counts = [10, 20, 50, 70, 100, 200, 300, 400, 500, 600, 700, 800, 900, 1000, 1100, 1200, 1300, 1400, 1500, 1600, 2000, 2000, 2000, 2000]\n",
    "\n",
    "# Create the destination folders\n",
    "for i, count in enumerate(song_counts):\n",
    "    folder_name = f\"Folder{i+1}\"\n",
    "    os.makedirs(os.path.join(destination_folder, folder_name), exist_ok=True)\n",
    "\n",
    "# Get the list of MIDI files\n",
    "midi_files = [file for file in os.listdir(source_folder) if file.endswith(\".mid\")]\n",
    "\n",
    "# Distribute the MIDI files into the destination folders\n",
    "folder_index = 6\n",
    "files_in_folder = 0\n",
    "for midi_file in midi_files:\n",
    "    # Move the file to the current folder\n",
    "    folder_name = f\"Folder{folder_index+1}\"\n",
    "    src_path = os.path.join(source_folder, midi_file)\n",
    "    dest_path = os.path.join(destination_folder, folder_name, midi_file)\n",
    "    shutil.move(src_path, dest_path)\n",
    "    \n",
    "    # Increment the file count\n",
    "    files_in_folder += 1\n",
    "    \n",
    "    # Check if we need to move to the next folder\n",
    "    if files_in_folder == song_counts[folder_index]:\n",
    "        folder_index += 1\n",
    "        files_in_folder = 0\n",
    "\n",
    "print(\"MIDI files distributed into folders successfully.\")\n"
   ]
  },
  {
   "cell_type": "code",
   "execution_count": null,
   "metadata": {},
   "outputs": [],
   "source": []
  }
 ],
 "metadata": {
  "kernelspec": {
   "display_name": "base",
   "language": "python",
   "name": "python3"
  },
  "language_info": {
   "codemirror_mode": {
    "name": "ipython",
    "version": 3
   },
   "file_extension": ".py",
   "mimetype": "text/x-python",
   "name": "python",
   "nbconvert_exporter": "python",
   "pygments_lexer": "ipython3",
   "version": "3.9.12"
  },
  "orig_nbformat": 4
 },
 "nbformat": 4,
 "nbformat_minor": 2
}
