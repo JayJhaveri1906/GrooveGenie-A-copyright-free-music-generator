{
 "cells": [
  {
   "cell_type": "code",
   "execution_count": 33,
   "metadata": {},
   "outputs": [],
   "source": [
    "import os\n",
    "import numpy as np\n",
    "path = 'DataNew/train'\n",
    "midiz = os.listdir(path)\n",
    "midis = []\n",
    "for midi in midiz:\n",
    "    midis.append(path+'/'+midi)"
   ]
  },
  {
   "cell_type": "code",
   "execution_count": 45,
   "metadata": {},
   "outputs": [
    {
     "ename": "KeyError",
     "evalue": "2467753387296",
     "output_type": "error",
     "traceback": [
      "\u001b[1;31m---------------------------------------------------------------------------\u001b[0m",
      "\u001b[1;31mKeyError\u001b[0m                                  Traceback (most recent call last)",
      "\u001b[1;32md:\\TP_PROGS\\Learning\\UCSD\\Spring 2023\\CSE 285\\Project\\Code\\Iteration2\\toRun.ipynb Cell 2\u001b[0m in \u001b[0;36m<cell line: 6>\u001b[1;34m()\u001b[0m\n\u001b[0;32m      <a href='vscode-notebook-cell:/d%3A/TP_PROGS/Learning/UCSD/Spring%202023/CSE%20285/Project/Code/Iteration2/toRun.ipynb#W1sZmlsZQ%3D%3D?line=3'>4</a>\u001b[0m mf\u001b[39m.\u001b[39mread()\n\u001b[0;32m      <a href='vscode-notebook-cell:/d%3A/TP_PROGS/Learning/UCSD/Spring%202023/CSE%20285/Project/Code/Iteration2/toRun.ipynb#W1sZmlsZQ%3D%3D?line=4'>5</a>\u001b[0m mf\u001b[39m.\u001b[39mclose()\n\u001b[1;32m----> <a href='vscode-notebook-cell:/d%3A/TP_PROGS/Learning/UCSD/Spring%202023/CSE%20285/Project/Code/Iteration2/toRun.ipynb#W1sZmlsZQ%3D%3D?line=5'>6</a>\u001b[0m s \u001b[39m=\u001b[39m midi\u001b[39m.\u001b[39;49mtranslate\u001b[39m.\u001b[39;49mmidiFileToStream(mf)\n\u001b[0;32m      <a href='vscode-notebook-cell:/d%3A/TP_PROGS/Learning/UCSD/Spring%202023/CSE%20285/Project/Code/Iteration2/toRun.ipynb#W1sZmlsZQ%3D%3D?line=6'>7</a>\u001b[0m s\u001b[39m.\u001b[39mshow(\u001b[39m'\u001b[39m\u001b[39mmidi\u001b[39m\u001b[39m'\u001b[39m)\n",
      "File \u001b[1;32md:\\softwares\\AnacondaMini\\lib\\site-packages\\music21\\midi\\translate.py:2876\u001b[0m, in \u001b[0;36mmidiFileToStream\u001b[1;34m(mf, inputM21, quantizePost, **keywords)\u001b[0m\n\u001b[0;32m   2872\u001b[0m     \u001b[39mraise\u001b[39;00m exceptions21\u001b[39m.\u001b[39mStreamException(\u001b[39m'\u001b[39m\u001b[39mno tracks are defined in this MIDI file.\u001b[39m\u001b[39m'\u001b[39m)\n\u001b[0;32m   2874\u001b[0m \u001b[39m# create a stream for each track\u001b[39;00m\n\u001b[0;32m   2875\u001b[0m \u001b[39m# may need to check if tracks actually have event data\u001b[39;00m\n\u001b[1;32m-> 2876\u001b[0m midiTracksToStreams(mf\u001b[39m.\u001b[39mtracks,\n\u001b[0;32m   2877\u001b[0m                     ticksPerQuarter\u001b[39m=\u001b[39mmf\u001b[39m.\u001b[39mticksPerQuarterNote,\n\u001b[0;32m   2878\u001b[0m                     quantizePost\u001b[39m=\u001b[39mquantizePost,\n\u001b[0;32m   2879\u001b[0m                     inputM21\u001b[39m=\u001b[39ms,\n\u001b[0;32m   2880\u001b[0m                     \u001b[39m*\u001b[39m\u001b[39m*\u001b[39mkeywords)\n\u001b[0;32m   2881\u001b[0m \u001b[39m# s._setMidiTracks(mf.tracks, mf.ticksPerQuarterNote)\u001b[39;00m\n\u001b[0;32m   2883\u001b[0m \u001b[39mreturn\u001b[39;00m s\n",
      "File \u001b[1;32md:\\softwares\\AnacondaMini\\lib\\site-packages\\music21\\midi\\translate.py:2613\u001b[0m, in \u001b[0;36mmidiTracksToStreams\u001b[1;34m(midiTracks, ticksPerQuarter, quantizePost, inputM21, **keywords)\u001b[0m\n\u001b[0;32m   2610\u001b[0m     \u001b[39melse\u001b[39;00m:\n\u001b[0;32m   2611\u001b[0m         streamPart \u001b[39m=\u001b[39m conductorPart\n\u001b[1;32m-> 2613\u001b[0m     midiTrackToStream(mt,\n\u001b[0;32m   2614\u001b[0m                       ticksPerQuarter\u001b[39m=\u001b[39mticksPerQuarter,\n\u001b[0;32m   2615\u001b[0m                       quantizePost\u001b[39m=\u001b[39mquantizePost,\n\u001b[0;32m   2616\u001b[0m                       inputM21\u001b[39m=\u001b[39mstreamPart,\n\u001b[0;32m   2617\u001b[0m                       conductorPart\u001b[39m=\u001b[39mconductorPart,\n\u001b[0;32m   2618\u001b[0m                       isFirst\u001b[39m=\u001b[39m(mt \u001b[39mis\u001b[39;00m firstTrackWithNotes),\n\u001b[0;32m   2619\u001b[0m                       \u001b[39m*\u001b[39m\u001b[39m*\u001b[39mkeywords)\n\u001b[0;32m   2621\u001b[0m \u001b[39mreturn\u001b[39;00m s\n",
      "File \u001b[1;32md:\\softwares\\AnacondaMini\\lib\\site-packages\\music21\\midi\\translate.py:2091\u001b[0m, in \u001b[0;36mmidiTrackToStream\u001b[1;34m(mt, ticksPerQuarter, quantizePost, inputM21, conductorPart, isFirst, quarterLengthDivisors, **keywords)\u001b[0m\n\u001b[0;32m   2088\u001b[0m     \u001b[39mfor\u001b[39;00m m \u001b[39min\u001b[39;00m s\u001b[39m.\u001b[39mgetElementsByClass(stream\u001b[39m.\u001b[39mMeasure):\n\u001b[0;32m   2089\u001b[0m         \u001b[39m# Gaps will be filled by makeRests, below, which now recurses\u001b[39;00m\n\u001b[0;32m   2090\u001b[0m         m\u001b[39m.\u001b[39mmakeVoices(inPlace\u001b[39m=\u001b[39m\u001b[39mTrue\u001b[39;00m, fillGaps\u001b[39m=\u001b[39m\u001b[39mFalse\u001b[39;00m)\n\u001b[1;32m-> 2091\u001b[0m s\u001b[39m.\u001b[39;49mmakeTies(inPlace\u001b[39m=\u001b[39;49m\u001b[39mTrue\u001b[39;49;00m)\n\u001b[0;32m   2092\u001b[0m \u001b[39m# always need to fill gaps, as rests are not found in any other way\u001b[39;00m\n\u001b[0;32m   2093\u001b[0m s\u001b[39m.\u001b[39mmakeRests(inPlace\u001b[39m=\u001b[39m\u001b[39mTrue\u001b[39;00m, fillGaps\u001b[39m=\u001b[39m\u001b[39mTrue\u001b[39;00m, timeRangeFromBarDuration\u001b[39m=\u001b[39m\u001b[39mTrue\u001b[39;00m)\n",
      "File \u001b[1;32md:\\softwares\\AnacondaMini\\lib\\site-packages\\music21\\stream\\base.py:6499\u001b[0m, in \u001b[0;36mStream.makeTies\u001b[1;34m(self, meterStream, inPlace, displayTiedAccidentals, classFilterList)\u001b[0m\n\u001b[0;32m   6487\u001b[0m \u001b[39mdef\u001b[39;00m \u001b[39mmakeTies\u001b[39m(\u001b[39mself\u001b[39m,\n\u001b[0;32m   6488\u001b[0m              meterStream\u001b[39m=\u001b[39m\u001b[39mNone\u001b[39;00m,\n\u001b[0;32m   6489\u001b[0m              inPlace\u001b[39m=\u001b[39m\u001b[39mFalse\u001b[39;00m,\n\u001b[0;32m   6490\u001b[0m              displayTiedAccidentals\u001b[39m=\u001b[39m\u001b[39mFalse\u001b[39;00m,\n\u001b[0;32m   6491\u001b[0m              classFilterList\u001b[39m=\u001b[39m(note\u001b[39m.\u001b[39mGeneralNote,),\n\u001b[0;32m   6492\u001b[0m              ):\n\u001b[0;32m   6493\u001b[0m     \u001b[39m'''\u001b[39;00m\n\u001b[0;32m   6494\u001b[0m \u001b[39m    Calls :py:func:`~music21.stream.makeNotation.makeTies`.\u001b[39;00m\n\u001b[0;32m   6495\u001b[0m \n\u001b[0;32m   6496\u001b[0m \u001b[39m    Changed in v.4., inPlace=False by default.\u001b[39;00m\n\u001b[0;32m   6497\u001b[0m \u001b[39m    Added in v.7, `classFilterList`.\u001b[39;00m\n\u001b[0;32m   6498\u001b[0m \u001b[39m    '''\u001b[39;00m\n\u001b[1;32m-> 6499\u001b[0m     \u001b[39mreturn\u001b[39;00m makeNotation\u001b[39m.\u001b[39;49mmakeTies(\n\u001b[0;32m   6500\u001b[0m         \u001b[39mself\u001b[39;49m,\n\u001b[0;32m   6501\u001b[0m         meterStream\u001b[39m=\u001b[39;49mmeterStream,\n\u001b[0;32m   6502\u001b[0m         inPlace\u001b[39m=\u001b[39;49minPlace,\n\u001b[0;32m   6503\u001b[0m         displayTiedAccidentals\u001b[39m=\u001b[39;49mdisplayTiedAccidentals,\n\u001b[0;32m   6504\u001b[0m         classFilterList\u001b[39m=\u001b[39;49mclassFilterList,\n\u001b[0;32m   6505\u001b[0m     )\n",
      "File \u001b[1;32md:\\softwares\\AnacondaMini\\lib\\site-packages\\music21\\stream\\makeNotation.py:1312\u001b[0m, in \u001b[0;36mmakeTies\u001b[1;34m(s, meterStream, inPlace, displayTiedAccidentals, classFilterList)\u001b[0m\n\u001b[0;32m   1307\u001b[0m     dst \u001b[39m=\u001b[39m mNext\n\u001b[0;32m   1309\u001b[0m \u001b[39m# mNext.coreSelfActiveSite(eRemain)\u001b[39;00m\n\u001b[0;32m   1310\u001b[0m \u001b[39m# manually set activeSite\u001b[39;00m\n\u001b[0;32m   1311\u001b[0m \u001b[39m# cannot use coreInsert here\u001b[39;00m\n\u001b[1;32m-> 1312\u001b[0m dst\u001b[39m.\u001b[39;49minsert(\u001b[39m0\u001b[39;49m, eRemain)\n\u001b[0;32m   1314\u001b[0m \u001b[39m# we are not sure that this element fits\u001b[39;00m\n\u001b[0;32m   1315\u001b[0m \u001b[39m# completely in the next measure, thus, need to\u001b[39;00m\n\u001b[0;32m   1316\u001b[0m \u001b[39m# continue processing each measure\u001b[39;00m\n\u001b[0;32m   1317\u001b[0m \u001b[39mif\u001b[39;00m mNextAdd:\n\u001b[0;32m   1318\u001b[0m     \u001b[39m# environLocal.printDebug([\u001b[39;00m\n\u001b[0;32m   1319\u001b[0m     \u001b[39m#    'makeTies() inserting mNext into returnObj',\u001b[39;00m\n\u001b[0;32m   1320\u001b[0m     \u001b[39m#    mNext])\u001b[39;00m\n",
      "File \u001b[1;32md:\\softwares\\AnacondaMini\\lib\\site-packages\\music21\\stream\\base.py:2257\u001b[0m, in \u001b[0;36mStream.insert\u001b[1;34m(self, offsetOrItemOrList, itemOrNone, ignoreSort, setActiveSite)\u001b[0m\n\u001b[0;32m   2254\u001b[0m \u001b[39mself\u001b[39m\u001b[39m.\u001b[39mcoreGuardBeforeAddElement(element)\n\u001b[0;32m   2255\u001b[0m \u001b[39m# main insert procedure here\u001b[39;00m\n\u001b[1;32m-> 2257\u001b[0m storeSorted \u001b[39m=\u001b[39m \u001b[39mself\u001b[39;49m\u001b[39m.\u001b[39;49mcoreInsert(offset,\n\u001b[0;32m   2258\u001b[0m                               element,\n\u001b[0;32m   2259\u001b[0m                               ignoreSort\u001b[39m=\u001b[39;49mignoreSort,\n\u001b[0;32m   2260\u001b[0m                               setActiveSite\u001b[39m=\u001b[39;49msetActiveSite)\n\u001b[0;32m   2261\u001b[0m updateIsFlat \u001b[39m=\u001b[39m \u001b[39mFalse\u001b[39;00m\n\u001b[0;32m   2262\u001b[0m \u001b[39mif\u001b[39;00m element\u001b[39m.\u001b[39misStream:\n",
      "File \u001b[1;32md:\\softwares\\AnacondaMini\\lib\\site-packages\\music21\\stream\\core.py:111\u001b[0m, in \u001b[0;36mStreamCore.coreInsert\u001b[1;34m(self, offset, element, ignoreSort, setActiveSite)\u001b[0m\n\u001b[0;32m    109\u001b[0m \u001b[39melse\u001b[39;00m:\n\u001b[0;32m    110\u001b[0m     highestSortTuple \u001b[39m=\u001b[39m \u001b[39mself\u001b[39m\u001b[39m.\u001b[39m_elements[\u001b[39m-\u001b[39m\u001b[39m1\u001b[39m]\u001b[39m.\u001b[39msortTuple()\n\u001b[1;32m--> 111\u001b[0m     thisSortTuple \u001b[39m=\u001b[39m element\u001b[39m.\u001b[39;49msortTuple()\u001b[39m.\u001b[39mmodify(offset\u001b[39m=\u001b[39moffset)\n\u001b[0;32m    113\u001b[0m     \u001b[39mif\u001b[39;00m highestSortTuple \u001b[39m<\u001b[39m thisSortTuple:\n\u001b[0;32m    114\u001b[0m         storeSorted \u001b[39m=\u001b[39m \u001b[39mTrue\u001b[39;00m\n",
      "File \u001b[1;32md:\\softwares\\AnacondaMini\\lib\\site-packages\\music21\\base.py:2672\u001b[0m, in \u001b[0;36mMusic21Object.sortTuple\u001b[1;34m(self, useSite, raiseExceptionOnMiss)\u001b[0m\n\u001b[0;32m   2670\u001b[0m     insertIndex \u001b[39m=\u001b[39m \u001b[39mself\u001b[39m\u001b[39m.\u001b[39msites\u001b[39m.\u001b[39msiteDict[\u001b[39mid\u001b[39m(useSite)]\u001b[39m.\u001b[39mglobalSiteIndex\n\u001b[0;32m   2671\u001b[0m \u001b[39melif\u001b[39;00m \u001b[39mself\u001b[39m\u001b[39m.\u001b[39mactiveSite \u001b[39mis\u001b[39;00m \u001b[39mnot\u001b[39;00m \u001b[39mNone\u001b[39;00m:\n\u001b[1;32m-> 2672\u001b[0m     insertIndex \u001b[39m=\u001b[39m \u001b[39mself\u001b[39;49m\u001b[39m.\u001b[39;49msites\u001b[39m.\u001b[39;49msiteDict[\u001b[39mid\u001b[39;49m(\u001b[39mself\u001b[39;49m\u001b[39m.\u001b[39;49mactiveSite)]\u001b[39m.\u001b[39mglobalSiteIndex\n\u001b[0;32m   2673\u001b[0m \u001b[39melse\u001b[39;00m:  \u001b[39m# for None, use this instead of default of -2.\u001b[39;00m\n\u001b[0;32m   2674\u001b[0m     insertIndex \u001b[39m=\u001b[39m \u001b[39m0\u001b[39m\n",
      "\u001b[1;31mKeyError\u001b[0m: 2467753387296"
     ]
    }
   ],
   "source": [
    "from music21 import midi\n",
    "mf = midi.MidiFile()\n",
    "mf.open(midis[0]) \n",
    "mf.read()\n",
    "mf.close()\n",
    "s = midi.translate.midiFileToStream(mf)\n",
    "s.show('midi')"
   ]
  },
  {
   "cell_type": "code",
   "execution_count": 40,
   "metadata": {},
   "outputs": [
    {
     "data": {
      "text/plain": [
       "'DataNew/train/..._Baby_One_More_Time.1.mid'"
      ]
     },
     "execution_count": 40,
     "metadata": {},
     "output_type": "execute_result"
    }
   ],
   "source": [
    "midis[3]"
   ]
  },
  {
   "cell_type": "code",
   "execution_count": 44,
   "metadata": {},
   "outputs": [
    {
     "name": "stdout",
     "output_type": "stream",
     "text": [
      "15911\n"
     ]
    }
   ],
   "source": [
    "print(len(midis))"
   ]
  },
  {
   "cell_type": "code",
   "execution_count": 1,
   "metadata": {},
   "outputs": [
    {
     "ename": "ModuleNotFoundError",
     "evalue": "No module named 'midi2audio'",
     "output_type": "error",
     "traceback": [
      "\u001b[1;31m---------------------------------------------------------------------------\u001b[0m",
      "\u001b[1;31mModuleNotFoundError\u001b[0m                       Traceback (most recent call last)",
      "\u001b[1;32md:\\TP_PROGS\\Learning\\UCSD\\Spring 2023\\CSE 285\\Project\\Code\\Iteration2\\toRun.ipynb Cell 5\u001b[0m in \u001b[0;36m<cell line: 1>\u001b[1;34m()\u001b[0m\n\u001b[1;32m----> <a href='vscode-notebook-cell:/d%3A/TP_PROGS/Learning/UCSD/Spring%202023/CSE%20285/Project/Code/Iteration2/toRun.ipynb#W6sZmlsZQ%3D%3D?line=0'>1</a>\u001b[0m \u001b[39mfrom\u001b[39;00m \u001b[39mmidi2audio\u001b[39;00m \u001b[39mimport\u001b[39;00m FluidSynth\n\u001b[0;32m      <a href='vscode-notebook-cell:/d%3A/TP_PROGS/Learning/UCSD/Spring%202023/CSE%20285/Project/Code/Iteration2/toRun.ipynb#W6sZmlsZQ%3D%3D?line=1'>2</a>\u001b[0m FluidSynth()\u001b[39m.\u001b[39mmidi_to_audio(\u001b[39m'\u001b[39m\u001b[39m./epoch60_0.mid\u001b[39m\u001b[39m'\u001b[39m,\u001b[39m'\u001b[39m\u001b[39m./epoch60_0.wav\u001b[39m\u001b[39m'\u001b[39m)\n",
      "\u001b[1;31mModuleNotFoundError\u001b[0m: No module named 'midi2audio'"
     ]
    }
   ],
   "source": [
    "from midi2audio import FluidSynth\n",
    "FluidSynth().midi_to_audio('./epoch60_0.mid','./epoch60_0.wav')"
   ]
  },
  {
   "cell_type": "code",
   "execution_count": 2,
   "metadata": {},
   "outputs": [
    {
     "ename": "Music21ObjectException",
     "evalue": "cannot support showing in this format yet: wav",
     "output_type": "error",
     "traceback": [
      "\u001b[1;31m---------------------------------------------------------------------------\u001b[0m",
      "\u001b[1;31mMusic21ObjectException\u001b[0m                    Traceback (most recent call last)",
      "\u001b[1;32md:\\TP_PROGS\\Learning\\UCSD\\Spring 2023\\CSE 285\\Project\\Code\\Iteration2\\toRun.ipynb Cell 6\u001b[0m in \u001b[0;36m<cell line: 2>\u001b[1;34m()\u001b[0m\n\u001b[0;32m      <a href='vscode-notebook-cell:/d%3A/TP_PROGS/Learning/UCSD/Spring%202023/CSE%20285/Project/Code/Iteration2/toRun.ipynb#W4sZmlsZQ%3D%3D?line=0'>1</a>\u001b[0m \u001b[39mfrom\u001b[39;00m \u001b[39mgenMusic\u001b[39;00m \u001b[39mimport\u001b[39;00m convertMidiToWAV\n\u001b[1;32m----> <a href='vscode-notebook-cell:/d%3A/TP_PROGS/Learning/UCSD/Spring%202023/CSE%20285/Project/Code/Iteration2/toRun.ipynb#W4sZmlsZQ%3D%3D?line=1'>2</a>\u001b[0m convertMidiToWAV(\u001b[39m'\u001b[39;49m\u001b[39m./epoch60_0.mid\u001b[39;49m\u001b[39m'\u001b[39;49m,\u001b[39m'\u001b[39;49m\u001b[39m./epoch60_0.wav\u001b[39;49m\u001b[39m'\u001b[39;49m)\n",
      "File \u001b[1;32md:\\TP_PROGS\\Learning\\UCSD\\Spring 2023\\CSE 285\\Project\\Code\\Iteration2\\genMusic.py:16\u001b[0m, in \u001b[0;36mconvertMidiToWAV\u001b[1;34m(midi_path, save_path, sound_font_path)\u001b[0m\n\u001b[0;32m     11\u001b[0m \u001b[39mdef\u001b[39;00m \u001b[39mconvertMidiToWAV\u001b[39m(midi_path, save_path \u001b[39m=\u001b[39m \u001b[39m\"\u001b[39m\u001b[39moutput.wav\u001b[39m\u001b[39m\"\u001b[39m, sound_font_path \u001b[39m=\u001b[39m \u001b[39m\"\u001b[39m\u001b[39mGeneralUser GS v1.471.sf2\u001b[39m\u001b[39m\"\u001b[39m):\n\u001b[0;32m     12\u001b[0m   \u001b[39m# save_path must end with flac or wav if FluidSynth\u001b[39;00m\n\u001b[0;32m     13\u001b[0m   \u001b[39m# fs = FluidSynth(sound_font_path)\u001b[39;00m\n\u001b[0;32m     14\u001b[0m   \u001b[39m# fs.midi_to_audio(midi_path, save_path)\u001b[39;00m\n\u001b[0;32m     15\u001b[0m   midi_ \u001b[39m=\u001b[39m converter\u001b[39m.\u001b[39mparse(midi_path)\n\u001b[1;32m---> 16\u001b[0m   midi_\u001b[39m.\u001b[39;49mwrite(\u001b[39m'\u001b[39;49m\u001b[39mwav\u001b[39;49m\u001b[39m'\u001b[39;49m, save_path)\n",
      "File \u001b[1;32md:\\softwares\\AnacondaMini\\lib\\site-packages\\music21\\stream\\base.py:391\u001b[0m, in \u001b[0;36mStream.write\u001b[1;34m(self, fmt, fp, **keywords)\u001b[0m\n\u001b[0;32m    389\u001b[0m \u001b[39mif\u001b[39;00m \u001b[39mself\u001b[39m\u001b[39m.\u001b[39misSorted \u001b[39mis\u001b[39;00m \u001b[39mFalse\u001b[39;00m \u001b[39mand\u001b[39;00m \u001b[39mself\u001b[39m\u001b[39m.\u001b[39mautoSort:  \u001b[39m# pragma: no cover\u001b[39;00m\n\u001b[0;32m    390\u001b[0m     \u001b[39mself\u001b[39m\u001b[39m.\u001b[39msort()\n\u001b[1;32m--> 391\u001b[0m \u001b[39mreturn\u001b[39;00m \u001b[39msuper\u001b[39m()\u001b[39m.\u001b[39mwrite(fmt\u001b[39m=\u001b[39mfmt, fp\u001b[39m=\u001b[39mfp, \u001b[39m*\u001b[39m\u001b[39m*\u001b[39mkeywords)\n",
      "File \u001b[1;32md:\\softwares\\AnacondaMini\\lib\\site-packages\\music21\\base.py:2807\u001b[0m, in \u001b[0;36mMusic21Object.write\u001b[1;34m(self, fmt, fp, **keywords)\u001b[0m\n\u001b[0;32m   2805\u001b[0m regularizedConverterFormat, unused_ext \u001b[39m=\u001b[39m common\u001b[39m.\u001b[39mfindFormat(fmt)\n\u001b[0;32m   2806\u001b[0m \u001b[39mif\u001b[39;00m regularizedConverterFormat \u001b[39mis\u001b[39;00m \u001b[39mNone\u001b[39;00m:\n\u001b[1;32m-> 2807\u001b[0m     \u001b[39mraise\u001b[39;00m Music21ObjectException(\u001b[39mf\u001b[39m\u001b[39m'\u001b[39m\u001b[39mcannot support showing in this format yet: \u001b[39m\u001b[39m{\u001b[39;00mfmt\u001b[39m}\u001b[39;00m\u001b[39m'\u001b[39m)\n\u001b[0;32m   2809\u001b[0m formatSubs \u001b[39m=\u001b[39m fmt\u001b[39m.\u001b[39msplit(\u001b[39m'\u001b[39m\u001b[39m.\u001b[39m\u001b[39m'\u001b[39m)\n\u001b[0;32m   2810\u001b[0m fmt \u001b[39m=\u001b[39m formatSubs[\u001b[39m0\u001b[39m]\n",
      "\u001b[1;31mMusic21ObjectException\u001b[0m: cannot support showing in this format yet: wav"
     ]
    }
   ],
   "source": [
    "from genMusic import convertMidiToWAV\n",
    "convertMidiToWAV('./epoch60_0.mid','./epoch60_0.wav')"
   ]
  },
  {
   "cell_type": "code",
   "execution_count": null,
   "metadata": {},
   "outputs": [],
   "source": []
  }
 ],
 "metadata": {
  "kernelspec": {
   "display_name": "base",
   "language": "python",
   "name": "python3"
  },
  "language_info": {
   "codemirror_mode": {
    "name": "ipython",
    "version": 3
   },
   "file_extension": ".py",
   "mimetype": "text/x-python",
   "name": "python",
   "nbconvert_exporter": "python",
   "pygments_lexer": "ipython3",
   "version": "3.9.12"
  },
  "orig_nbformat": 4
 },
 "nbformat": 4,
 "nbformat_minor": 2
}
